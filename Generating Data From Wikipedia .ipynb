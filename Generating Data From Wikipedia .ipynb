{
  "nbformat": 4,
  "nbformat_minor": 0,
  "metadata": {
    "colab": {
      "name": "Untitled29.ipynb",
      "provenance": [],
      "authorship_tag": "ABX9TyNHpbNvIa9aQ0wfcZUdL9xZ",
      "include_colab_link": true
    },
    "kernelspec": {
      "name": "python3",
      "display_name": "Python 3"
    },
    "language_info": {
      "name": "python"
    }
  },
  "cells": [
    {
      "cell_type": "markdown",
      "metadata": {
        "id": "view-in-github",
        "colab_type": "text"
      },
      "source": [
        "<a href=\"https://colab.research.google.com/github/annanya-mathur/Numpy-Pandas-in-python/blob/main/Generating%20Data%20From%20Wikipedia%20.ipynb\" target=\"_parent\"><img src=\"https://colab.research.google.com/assets/colab-badge.svg\" alt=\"Open In Colab\"/></a>"
      ]
    },
    {
      "cell_type": "code",
      "metadata": {
        "colab": {
          "base_uri": "https://localhost:8080/"
        },
        "id": "85tT_9gK_KrN",
        "outputId": "aa4f1773-e882-4a4c-a194-b3179b32f5c1"
      },
      "source": [
        "!pip install wikipedia"
      ],
      "execution_count": 2,
      "outputs": [
        {
          "output_type": "stream",
          "text": [
            "Collecting wikipedia\n",
            "  Downloading https://files.pythonhosted.org/packages/67/35/25e68fbc99e672127cc6fbb14b8ec1ba3dfef035bf1e4c90f78f24a80b7d/wikipedia-1.4.0.tar.gz\n",
            "Requirement already satisfied: beautifulsoup4 in /usr/local/lib/python3.7/dist-packages (from wikipedia) (4.6.3)\n",
            "Requirement already satisfied: requests<3.0.0,>=2.0.0 in /usr/local/lib/python3.7/dist-packages (from wikipedia) (2.23.0)\n",
            "Requirement already satisfied: idna<3,>=2.5 in /usr/local/lib/python3.7/dist-packages (from requests<3.0.0,>=2.0.0->wikipedia) (2.10)\n",
            "Requirement already satisfied: urllib3!=1.25.0,!=1.25.1,<1.26,>=1.21.1 in /usr/local/lib/python3.7/dist-packages (from requests<3.0.0,>=2.0.0->wikipedia) (1.24.3)\n",
            "Requirement already satisfied: chardet<4,>=3.0.2 in /usr/local/lib/python3.7/dist-packages (from requests<3.0.0,>=2.0.0->wikipedia) (3.0.4)\n",
            "Requirement already satisfied: certifi>=2017.4.17 in /usr/local/lib/python3.7/dist-packages (from requests<3.0.0,>=2.0.0->wikipedia) (2020.12.5)\n",
            "Building wheels for collected packages: wikipedia\n",
            "  Building wheel for wikipedia (setup.py) ... \u001b[?25l\u001b[?25hdone\n",
            "  Created wheel for wikipedia: filename=wikipedia-1.4.0-cp37-none-any.whl size=11686 sha256=61ee6c11495c53ebca885ee1e56181e795f35b3dd497eb100433b8fd5dd69d19\n",
            "  Stored in directory: /root/.cache/pip/wheels/87/2a/18/4e471fd96d12114d16fe4a446d00c3b38fb9efcb744bd31f4a\n",
            "Successfully built wikipedia\n",
            "Installing collected packages: wikipedia\n",
            "Successfully installed wikipedia-1.4.0\n"
          ],
          "name": "stdout"
        }
      ]
    },
    {
      "cell_type": "code",
      "metadata": {
        "id": "HuK6aKDK_gh1"
      },
      "source": [
        "import wikipedia as wik"
      ],
      "execution_count": 4,
      "outputs": []
    },
    {
      "cell_type": "code",
      "metadata": {
        "colab": {
          "base_uri": "https://localhost:8080/"
        },
        "id": "HHyNYDGo_1_t",
        "outputId": "dc856d87-7093-4ec2-c688-89c3b6746b37"
      },
      "source": [
        "# searching a topic in wikipedia\n",
        "r=wik.search('Encyclopedia')\n",
        "r"
      ],
      "execution_count": 7,
      "outputs": [
        {
          "output_type": "execute_result",
          "data": {
            "text/plain": [
              "['Encyclopedia',\n",
              " 'Wikipedia',\n",
              " 'Columbia Encyclopedia',\n",
              " 'Catholic Encyclopedia',\n",
              " 'Encyclopedia (disambiguation)',\n",
              " 'Online encyclopedia',\n",
              " 'Encyclopedia Brown',\n",
              " 'Encyclopedia.com',\n",
              " 'The Jewish Encyclopedia',\n",
              " 'Encyclopedia of Mathematics']"
            ]
          },
          "metadata": {
            "tags": []
          },
          "execution_count": 7
        }
      ]
    },
    {
      "cell_type": "code",
      "metadata": {
        "colab": {
          "base_uri": "https://localhost:8080/",
          "height": 35
        },
        "id": "4tu9zhviAK1I",
        "outputId": "1c5cb10f-13f1-4154-afd0-23b5506f7cfa"
      },
      "source": [
        "# Getting wikipedia page for topic Encyclopedia\n",
        "page=wik.page(r[0])\n",
        "page.url     # getting url for the first page"
      ],
      "execution_count": 9,
      "outputs": [
        {
          "output_type": "execute_result",
          "data": {
            "application/vnd.google.colaboratory.intrinsic+json": {
              "type": "string"
            },
            "text/plain": [
              "'https://en.wikipedia.org/wiki/Encyclopedia'"
            ]
          },
          "metadata": {
            "tags": []
          },
          "execution_count": 9
        }
      ]
    },
    {
      "cell_type": "code",
      "metadata": {
        "colab": {
          "base_uri": "https://localhost:8080/",
          "height": 35
        },
        "id": "XLXfBeSjAhyO",
        "outputId": "2f7230fe-3568-48aa-da43-829c0b314991"
      },
      "source": [
        "page.title   # getting title for the first page"
      ],
      "execution_count": 10,
      "outputs": [
        {
          "output_type": "execute_result",
          "data": {
            "application/vnd.google.colaboratory.intrinsic+json": {
              "type": "string"
            },
            "text/plain": [
              "'Encyclopedia'"
            ]
          },
          "metadata": {
            "tags": []
          },
          "execution_count": 10
        }
      ]
    },
    {
      "cell_type": "code",
      "metadata": {
        "colab": {
          "base_uri": "https://localhost:8080/",
          "height": 120
        },
        "id": "L8NeUTISAm2Z",
        "outputId": "ffaf784f-96b4-423e-d6ad-99bc47dc4150"
      },
      "source": [
        "page.summary  # getting symmary for the first page"
      ],
      "execution_count": 11,
      "outputs": [
        {
          "output_type": "execute_result",
          "data": {
            "application/vnd.google.colaboratory.intrinsic+json": {
              "type": "string"
            },
            "text/plain": [
              "\"An encyclopedia or encyclopaedia (British English) is a reference work or compendium providing summaries of knowledge either from all branches or from a particular field or discipline. Encyclopedias are divided into articles or entries that are often arranged alphabetically by article name and sometimes by thematic categories. Encyclopedia entries are longer and more detailed than those in most dictionaries. Generally speaking, unlike dictionary entries—which focus on linguistic information about words, such as their etymology, meaning, pronunciation, use, and grammatical forms—encyclopedia articles focus on factual information concerning the subject named in the article's title.Encyclopedias have existed for around 2,000 years and have evolved considerably during that time as regards to language (written in a major international or a vernacular language), size (few or many volumes), intent (presentation of a global or a limited range of knowledge), cultural perspective (authoritative, ideological, didactic, utilitarian), authorship (qualifications, style), readership (education level, background, interests, capabilities), and the technologies available for their production and distribution (hand-written manuscripts, small or large print runs, Internet). As a valued source of reliable information compiled by experts, printed versions found a prominent place in libraries, schools and other educational institutions.\\nThe appearance of digital and open-source versions in the 21st century, such as Wikipedia, has vastly expanded the accessibility, authorship, readership, and variety of encyclopedia entries.\""
            ]
          },
          "metadata": {
            "tags": []
          },
          "execution_count": 11
        }
      ]
    },
    {
      "cell_type": "code",
      "metadata": {
        "colab": {
          "base_uri": "https://localhost:8080/"
        },
        "id": "DwUfGYsZAwlh",
        "outputId": "efed77b8-743e-43c9-965a-8d75f863a5e4"
      },
      "source": [
        "page.links   # getting other links for the first page"
      ],
      "execution_count": 12,
      "outputs": [
        {
          "output_type": "execute_result",
          "data": {
            "text/plain": [
              "['Abu Bakr al-Razi',\n",
              " 'Academic discipline',\n",
              " 'Al-Kindi',\n",
              " 'Al-Tabri',\n",
              " 'Aldo Manuzio',\n",
              " 'Ali ibn al-Athir',\n",
              " 'Alphabetical order',\n",
              " 'American and British English spelling differences',\n",
              " 'Ancient Rome',\n",
              " 'Anglo-Norman language',\n",
              " 'ArXiv (identifier)',\n",
              " 'Archimedes',\n",
              " 'Article (publishing)',\n",
              " 'Asharite',\n",
              " 'BNF (identifier)',\n",
              " 'Baidu Baike',\n",
              " 'Baike.com',\n",
              " 'Banglapedia',\n",
              " 'Bartholomew of England',\n",
              " 'Basra',\n",
              " 'Bibcode (identifier)',\n",
              " 'Bibliography',\n",
              " 'Bibliography of encyclopedias',\n",
              " 'Bioethics',\n",
              " 'Biographical dictionary',\n",
              " \"Black's Law Dictionary\",\n",
              " 'Book of Sydrac',\n",
              " 'Brethren of Purity',\n",
              " 'British English',\n",
              " 'Brockhaus Enzyklopädie',\n",
              " 'Brockhaus encyclopedia',\n",
              " 'Brunetto Latini',\n",
              " 'CD-ROM',\n",
              " 'CNET',\n",
              " 'Carolingian dynasty',\n",
              " \"Children's Encyclopaedia\",\n",
              " 'Chinese characters',\n",
              " 'Chinese encyclopedias',\n",
              " 'Chinese language',\n",
              " 'Christianity',\n",
              " 'Citation',\n",
              " \"Collier's Encyclopedia\",\n",
              " 'Compendium',\n",
              " 'Criticism of Wikipedia',\n",
              " 'Cross reference',\n",
              " 'Crowdsourcing',\n",
              " 'Cyclopaedia, or Universal Dictionary of Arts and Sciences',\n",
              " 'De expetendis et fugiendis rebus',\n",
              " 'Definitions',\n",
              " 'Denis Diderot',\n",
              " 'Dictionary',\n",
              " 'Dictionary of American Naval Fighting Ships',\n",
              " 'Dictionary of the Middle Ages',\n",
              " 'Doi (identifier)',\n",
              " 'Door to door',\n",
              " 'Electronic media',\n",
              " 'Encarta',\n",
              " 'Encyclopaedia Judaica',\n",
              " 'Encyclopaediæ, seu orbis disciplinarum, tam sacrarum quam prophanarum, epistemon',\n",
              " 'Encyclopedia (disambiguation)',\n",
              " 'Encyclopedia Americana',\n",
              " 'Encyclopedia of the Brethren of Purity',\n",
              " 'Encyclopedic dictionary',\n",
              " 'Encyclopedic knowledge',\n",
              " 'Encyclopedism',\n",
              " 'Encyclopædia Britannica',\n",
              " 'Encyclopædia Britannica Eleventh Edition',\n",
              " 'Encyclopædia Britannica Online',\n",
              " 'Encyclopédie',\n",
              " 'English Wikipedia',\n",
              " 'English language',\n",
              " 'Ephraim Chambers',\n",
              " 'Epigraph (literature)',\n",
              " 'Etymologiae',\n",
              " 'Etymology',\n",
              " 'Everything2',\n",
              " 'Expert',\n",
              " 'Fact',\n",
              " 'Fictitious entry',\n",
              " 'Flemish',\n",
              " 'Four Great Books of Song',\n",
              " 'Francis Lieber',\n",
              " 'François Rabelais',\n",
              " 'French Wikipedia',\n",
              " 'French language',\n",
              " 'Funk and Wagnalls',\n",
              " 'GND (identifier)',\n",
              " 'Gargantua and Pantagruel',\n",
              " 'Gazetteer',\n",
              " 'German Wikipedia',\n",
              " 'German language',\n",
              " 'Ghent University Library',\n",
              " 'Giorgio Valla',\n",
              " 'Google Ngram Viewer',\n",
              " 'Great Soviet Encyclopedia',\n",
              " 'Gregor Reisch',\n",
              " 'H2g2',\n",
              " \"Harmsworth's Universal Encyclopaedia\",\n",
              " 'Herrad of Landsberg',\n",
              " 'Hierarchy',\n",
              " 'Hildegard of Bingen',\n",
              " 'Historiography of early Islam',\n",
              " 'History of encyclopedias',\n",
              " 'History of science and technology',\n",
              " 'History of the Prophets and Kings',\n",
              " 'Horace',\n",
              " 'ISBN (identifier)',\n",
              " 'ISSN (identifier)',\n",
              " 'Ibn Khaldun',\n",
              " 'Ibn Rustah',\n",
              " 'Ibn Sina',\n",
              " 'Illustration',\n",
              " 'Incunabulum',\n",
              " 'Information',\n",
              " 'Information retrieval',\n",
              " 'Isidore of Seville',\n",
              " 'Italian language',\n",
              " 'JSTOR (identifier)',\n",
              " \"Jean le Rond d'Alembert\",\n",
              " 'Jim Giles (reporter)',\n",
              " 'Joachimus Fortius Ringelbergius',\n",
              " 'Johannes Aventinus',\n",
              " 'Knowledge',\n",
              " 'Koine Greek',\n",
              " 'LCCN (identifier)',\n",
              " 'LNB (identifier)',\n",
              " 'Latin',\n",
              " 'Law',\n",
              " 'Lexicography',\n",
              " 'Lexicon Technicum',\n",
              " 'Liber Floridus',\n",
              " 'Library science',\n",
              " 'Linguistics',\n",
              " 'List of Wikipedia language editions',\n",
              " 'List of Wikipedias',\n",
              " 'List of academic disciplines',\n",
              " 'Lists of encyclopedias',\n",
              " 'MA (identifier)',\n",
              " 'Macquarie Dictionary',\n",
              " 'Map',\n",
              " 'Masudi',\n",
              " 'MediaWiki',\n",
              " 'Medicine',\n",
              " 'Microsoft',\n",
              " 'Middle Ages',\n",
              " 'Muhammad ibn Jarir al-Tabari',\n",
              " 'Mutazilite',\n",
              " 'NDL (identifier)',\n",
              " 'Natural History (Pliny)',\n",
              " 'Nature (journal)',\n",
              " 'New International Encyclopedia',\n",
              " 'New Latin',\n",
              " 'Nuremberg Chronicle',\n",
              " 'OCLC (identifier)',\n",
              " 'Omne Bonum',\n",
              " 'Online encyclopedia',\n",
              " 'Open content',\n",
              " 'Open source',\n",
              " 'Oxford English Dictionary',\n",
              " 'Oxford University Press',\n",
              " 'PMID (identifier)',\n",
              " 'Paideia',\n",
              " 'Paul Skalich',\n",
              " 'Pavao Skalić',\n",
              " 'Philosophy',\n",
              " 'Pierre Bersuire',\n",
              " 'Pliny the Elder',\n",
              " 'Prime Tortoise of the Record Bureau',\n",
              " 'Printing',\n",
              " 'ProQuest (identifier)',\n",
              " 'Pseudodoxia Epidemica',\n",
              " 'Quintilian',\n",
              " 'Quintillian',\n",
              " 'Rabanus Maurus',\n",
              " 'Radulfus Ardens',\n",
              " 'Reference work',\n",
              " 'Renaissance',\n",
              " 'Robert Kaske',\n",
              " 'Roy Rosenzweig',\n",
              " 'S2CID (identifier)',\n",
              " 'Samuel Eisenmenger',\n",
              " 'Seven liberal arts',\n",
              " 'Skyhorse Pub.',\n",
              " 'Song dynasty',\n",
              " 'Spanish language',\n",
              " 'Speculum literature',\n",
              " 'Stanford Encyclopedia of Philosophy',\n",
              " 'Statistics',\n",
              " 'Subject indexing',\n",
              " 'Suda',\n",
              " 'Synonym',\n",
              " 'Systemic bias',\n",
              " 'Target audience',\n",
              " 'Term (language)',\n",
              " 'The American Cyclopædia',\n",
              " 'The Muqadimmah',\n",
              " 'The New York Times',\n",
              " 'The Nuttall Encyclopædia',\n",
              " 'The San Diego Union-Tribune',\n",
              " 'Thesaurus',\n",
              " 'Thomas Browne',\n",
              " 'Understanding',\n",
              " 'Universal history',\n",
              " 'Venice',\n",
              " 'Vernacular',\n",
              " 'Vesuvius',\n",
              " 'Vincent of Beauvais',\n",
              " 'Voting',\n",
              " 'Wayback Machine',\n",
              " 'Wikimedia Foundation',\n",
              " 'Wikipedia',\n",
              " 'Wikipedia community',\n",
              " 'Wikipedians',\n",
              " 'Word',\n",
              " 'Words',\n",
              " 'World Book',\n",
              " 'Yongle Encyclopedia']"
            ]
          },
          "metadata": {
            "tags": []
          },
          "execution_count": 12
        }
      ]
    }
  ]
}
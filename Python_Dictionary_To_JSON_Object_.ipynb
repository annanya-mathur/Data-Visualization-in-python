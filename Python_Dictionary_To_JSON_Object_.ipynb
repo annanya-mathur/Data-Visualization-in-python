{
  "nbformat": 4,
  "nbformat_minor": 0,
  "metadata": {
    "colab": {
      "name": "Python Dictionary To JSON Object .ipynb",
      "provenance": [],
      "authorship_tag": "ABX9TyP6jZO+eTox5KyyjaWeuFib",
      "include_colab_link": true
    },
    "kernelspec": {
      "name": "python3",
      "display_name": "Python 3"
    },
    "language_info": {
      "name": "python"
    }
  },
  "cells": [
    {
      "cell_type": "markdown",
      "metadata": {
        "id": "view-in-github",
        "colab_type": "text"
      },
      "source": [
        "<a href=\"https://colab.research.google.com/github/annanya-mathur/annanya-mathur/blob/main/Python_Dictionary_To_JSON_Object_.ipynb\" target=\"_parent\"><img src=\"https://colab.research.google.com/assets/colab-badge.svg\" alt=\"Open In Colab\"/></a>"
      ]
    },
    {
      "cell_type": "code",
      "metadata": {
        "id": "bBl5sJlB2VSC"
      },
      "source": [
        "import json as js"
      ],
      "execution_count": 1,
      "outputs": []
    },
    {
      "cell_type": "code",
      "metadata": {
        "id": "Vzg1Bl2F3nRn"
      },
      "source": [
        "dict ={\n",
        "\"id\": 2140,\n",
        "\"title\": \"gj\",\n",
        "\"description\": \"ghj\",\n",
        "\"location\": \"Hermannplatz 5-6, 10967 Berlin, Germany\",\n",
        "\"lng\": 0,\n",
        "\"lat\": 0,\n",
        "\"userId\": 4051,\n",
        "\"name\": \"manoj\",\n",
        "\"commentCount\": 0}"
      ],
      "execution_count": 2,
      "outputs": []
    },
    {
      "cell_type": "code",
      "metadata": {
        "id": "EgQwPiTT3tQe"
      },
      "source": [
        "data_json=js.dumps(dict)"
      ],
      "execution_count": 3,
      "outputs": []
    },
    {
      "cell_type": "code",
      "metadata": {
        "colab": {
          "base_uri": "https://localhost:8080/"
        },
        "id": "lqZxTif53_fU",
        "outputId": "49cc8073-44ba-4379-fdc8-d297491c28c5"
      },
      "source": [
        "type(data_json)"
      ],
      "execution_count": 4,
      "outputs": [
        {
          "output_type": "execute_result",
          "data": {
            "text/plain": [
              "str"
            ]
          },
          "metadata": {
            "tags": []
          },
          "execution_count": 4
        }
      ]
    },
    {
      "cell_type": "code",
      "metadata": {
        "colab": {
          "base_uri": "https://localhost:8080/",
          "height": 52
        },
        "id": "PMbE8lCF4K8z",
        "outputId": "d9bb695d-cd7c-46b2-cc44-002ea9c5ee6e"
      },
      "source": [
        "data_json"
      ],
      "execution_count": 5,
      "outputs": [
        {
          "output_type": "execute_result",
          "data": {
            "application/vnd.google.colaboratory.intrinsic+json": {
              "type": "string"
            },
            "text/plain": [
              "'{\"id\": 2140, \"title\": \"gj\", \"description\": \"ghj\", \"location\": \"Hermannplatz 5-6, 10967 Berlin, Germany\", \"lng\": 0, \"lat\": 0, \"userId\": 4051, \"name\": \"manoj\", \"commentCount\": 0}'"
            ]
          },
          "metadata": {
            "tags": []
          },
          "execution_count": 5
        }
      ]
    },
    {
      "cell_type": "code",
      "metadata": {
        "id": "422zAcbB4ccp"
      },
      "source": [
        "with open('/content/sample2.json','a') as json_file:\n",
        "  js.dump(dict,json_file)      # a new json file has been created in content section of colab with the name sample2.json"
      ],
      "execution_count": 7,
      "outputs": []
    }
  ]
}
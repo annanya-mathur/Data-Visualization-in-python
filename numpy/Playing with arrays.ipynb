{
  "nbformat": 4,
  "nbformat_minor": 0,
  "metadata": {
    "colab": {
      "name": "Untitled10.ipynb",
      "provenance": [],
      "authorship_tag": "ABX9TyN4iTzksMKWzrDnO9wLMdsV",
      "include_colab_link": true
    },
    "kernelspec": {
      "name": "python3",
      "display_name": "Python 3"
    },
    "language_info": {
      "name": "python"
    }
  },
  "cells": [
    {
      "cell_type": "markdown",
      "metadata": {
        "id": "view-in-github",
        "colab_type": "text"
      },
      "source": [
        "<a href=\"https://colab.research.google.com/github/annanya-mathur/Numpy-in-python/blob/main/Playing%20with%20arrays.ipynb\" target=\"_parent\"><img src=\"https://colab.research.google.com/assets/colab-badge.svg\" alt=\"Open In Colab\"/></a>"
      ]
    },
    {
      "cell_type": "code",
      "metadata": {
        "id": "HYU3tgUHX3jj"
      },
      "source": [
        "import numpy as np"
      ],
      "execution_count": 1,
      "outputs": []
    },
    {
      "cell_type": "code",
      "metadata": {
        "colab": {
          "base_uri": "https://localhost:8080/"
        },
        "id": "t_cacmO3X_rN",
        "outputId": "45043201-60cb-44c4-af2b-a995f194df0c"
      },
      "source": [
        "n1=np.array([10,20,30,40])          #creating numpy array\n",
        "n1"
      ],
      "execution_count": 2,
      "outputs": [
        {
          "output_type": "execute_result",
          "data": {
            "text/plain": [
              "array([10, 20, 30, 40])"
            ]
          },
          "metadata": {
            "tags": []
          },
          "execution_count": 2
        }
      ]
    },
    {
      "cell_type": "code",
      "metadata": {
        "colab": {
          "base_uri": "https://localhost:8080/"
        },
        "id": "gjgjxghqYLhr",
        "outputId": "65598f23-f25c-418a-bb11-578e0c0b2829"
      },
      "source": [
        "n2=np.zeros((1,2))            #initializing numpy array with zeros\n",
        "n2"
      ],
      "execution_count": 4,
      "outputs": [
        {
          "output_type": "execute_result",
          "data": {
            "text/plain": [
              "array([[0., 0.]])"
            ]
          },
          "metadata": {
            "tags": []
          },
          "execution_count": 4
        }
      ]
    },
    {
      "cell_type": "code",
      "metadata": {
        "colab": {
          "base_uri": "https://localhost:8080/"
        },
        "id": "66MTXfUEYacZ",
        "outputId": "5e77de9d-ac74-4981-af6f-910725b2c9f4"
      },
      "source": [
        "n3=np.arange(10,50,5)        #initializing numpy array with range(lowerlimit , upperlimit, intervals)\n",
        "n3"
      ],
      "execution_count": 5,
      "outputs": [
        {
          "output_type": "execute_result",
          "data": {
            "text/plain": [
              "array([10, 15, 20, 25, 30, 35, 40, 45])"
            ]
          },
          "metadata": {
            "tags": []
          },
          "execution_count": 5
        }
      ]
    },
    {
      "cell_type": "code",
      "metadata": {
        "colab": {
          "base_uri": "https://localhost:8080/"
        },
        "id": "qiCzVURbY0et",
        "outputId": "550feaab-391f-4a0b-c62f-f7b208ce2976"
      },
      "source": [
        "n4=np.random.randint(1,100,5)    #initializing numpy array with random numbers\n",
        "n4"
      ],
      "execution_count": 11,
      "outputs": [
        {
          "output_type": "execute_result",
          "data": {
            "text/plain": [
              "array([ 5, 42, 95, 95, 36])"
            ]
          },
          "metadata": {
            "tags": []
          },
          "execution_count": 11
        }
      ]
    },
    {
      "cell_type": "code",
      "metadata": {
        "colab": {
          "base_uri": "https://localhost:8080/"
        },
        "id": "9xKn3OosZRp_",
        "outputId": "4daf38e7-d876-4283-8ca1-29ddeb353adc"
      },
      "source": [
        "#Joining numpy arrays\n",
        "# vertically\n",
        "n5=np.array([10,20,30])\n",
        "n6=np.array([60,70,80])\n",
        "n7=np.vstack((n5,n6))\n",
        "n7"
      ],
      "execution_count": 29,
      "outputs": [
        {
          "output_type": "execute_result",
          "data": {
            "text/plain": [
              "array([[10, 20, 30],\n",
              "       [60, 70, 80]])"
            ]
          },
          "metadata": {
            "tags": []
          },
          "execution_count": 29
        }
      ]
    },
    {
      "cell_type": "code",
      "metadata": {
        "colab": {
          "base_uri": "https://localhost:8080/"
        },
        "id": "z_YHaNhMbKbz",
        "outputId": "d6a83d89-131e-4adc-8a2f-3cf8604c8c22"
      },
      "source": [
        "# By-column\n",
        "np.column_stack((n5,n6))\n"
      ],
      "execution_count": 20,
      "outputs": [
        {
          "output_type": "execute_result",
          "data": {
            "text/plain": [
              "array([[10, 60],\n",
              "       [20, 70],\n",
              "       [30, 80]])"
            ]
          },
          "metadata": {
            "tags": []
          },
          "execution_count": 20
        }
      ]
    },
    {
      "cell_type": "code",
      "metadata": {
        "colab": {
          "base_uri": "https://localhost:8080/"
        },
        "id": "Elqa_Pn4a0Qz",
        "outputId": "eeea262f-e5d2-4745-8eac-a14b323686f6"
      },
      "source": [
        "#horizontally\n",
        "np.hstack((n5,n6))"
      ],
      "execution_count": 19,
      "outputs": [
        {
          "output_type": "execute_result",
          "data": {
            "text/plain": [
              "array([10, 20, 30, 60, 70, 80])"
            ]
          },
          "metadata": {
            "tags": []
          },
          "execution_count": 19
        }
      ]
    },
    {
      "cell_type": "code",
      "metadata": {
        "colab": {
          "base_uri": "https://localhost:8080/"
        },
        "id": "Ogs8mcvSbm_B",
        "outputId": "4a50aa33-262d-4a3a-bf36-99c3a551d720"
      },
      "source": [
        "# Finding mean ,meadian ,standard deviation\n",
        "# mean\n",
        "np.mean(n1)"
      ],
      "execution_count": 21,
      "outputs": [
        {
          "output_type": "execute_result",
          "data": {
            "text/plain": [
              "25.0"
            ]
          },
          "metadata": {
            "tags": []
          },
          "execution_count": 21
        }
      ]
    },
    {
      "cell_type": "code",
      "metadata": {
        "colab": {
          "base_uri": "https://localhost:8080/"
        },
        "id": "3p6O0MCVb1q0",
        "outputId": "2f5b2ca4-7232-432a-8b3b-bdaf165a1092"
      },
      "source": [
        "# meadian\n",
        "np.median(n1)"
      ],
      "execution_count": 22,
      "outputs": [
        {
          "output_type": "execute_result",
          "data": {
            "text/plain": [
              "25.0"
            ]
          },
          "metadata": {
            "tags": []
          },
          "execution_count": 22
        }
      ]
    },
    {
      "cell_type": "code",
      "metadata": {
        "colab": {
          "base_uri": "https://localhost:8080/"
        },
        "id": "j3wQ-p4Sb8Pc",
        "outputId": "b2248c67-e286-4db8-d862-55a9804c3e7e"
      },
      "source": [
        "# standard deviation\n",
        "np.std(n1)"
      ],
      "execution_count": 23,
      "outputs": [
        {
          "output_type": "execute_result",
          "data": {
            "text/plain": [
              "11.180339887498949"
            ]
          },
          "metadata": {
            "tags": []
          },
          "execution_count": 23
        }
      ]
    },
    {
      "cell_type": "code",
      "metadata": {
        "colab": {
          "base_uri": "https://localhost:8080/"
        },
        "id": "1ZOsHZoOcDRN",
        "outputId": "2898e094-a633-492a-9d5d-aa5372252265"
      },
      "source": [
        "# Finding intersection and setdifference of two arrays\n",
        "# intersection\n",
        "np.intersect1d(n5,n1)"
      ],
      "execution_count": 28,
      "outputs": [
        {
          "output_type": "execute_result",
          "data": {
            "text/plain": [
              "array([10, 20, 30])"
            ]
          },
          "metadata": {
            "tags": []
          },
          "execution_count": 28
        }
      ]
    },
    {
      "cell_type": "code",
      "metadata": {
        "colab": {
          "base_uri": "https://localhost:8080/"
        },
        "id": "ssZSCfmGcggt",
        "outputId": "2c282011-bd7d-4c6f-a83f-5225b9427e03"
      },
      "source": [
        "# setdifference \n",
        "np.setdiff1d(n1,n5)"
      ],
      "execution_count": 27,
      "outputs": [
        {
          "output_type": "execute_result",
          "data": {
            "text/plain": [
              "array([40])"
            ]
          },
          "metadata": {
            "tags": []
          },
          "execution_count": 27
        }
      ]
    },
    {
      "cell_type": "code",
      "metadata": {
        "colab": {
          "base_uri": "https://localhost:8080/"
        },
        "id": "2rlgEt0ec2Zk",
        "outputId": "4a5e4cf2-34f2-4f3f-caf2-e193d93c396f"
      },
      "source": [
        "# Finding shape/ dimensions of array\n",
        "n7.shape"
      ],
      "execution_count": 32,
      "outputs": [
        {
          "output_type": "execute_result",
          "data": {
            "text/plain": [
              "(2, 3)"
            ]
          },
          "metadata": {
            "tags": []
          },
          "execution_count": 32
        }
      ]
    },
    {
      "cell_type": "code",
      "metadata": {
        "colab": {
          "base_uri": "https://localhost:8080/"
        },
        "id": "tgauyOyuc3GQ",
        "outputId": "4e38dae8-dafd-4c52-93c9-8e978c1e4b32"
      },
      "source": [
        "# changing the shape / dimensions\n",
        "n7.shape =(6,1)\n",
        "n7"
      ],
      "execution_count": 37,
      "outputs": [
        {
          "output_type": "execute_result",
          "data": {
            "text/plain": [
              "array([[10],\n",
              "       [20],\n",
              "       [30],\n",
              "       [60],\n",
              "       [70],\n",
              "       [80]])"
            ]
          },
          "metadata": {
            "tags": []
          },
          "execution_count": 37
        }
      ]
    }
  ]
}
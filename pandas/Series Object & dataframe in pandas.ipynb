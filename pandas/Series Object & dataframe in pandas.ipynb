{
  "nbformat": 4,
  "nbformat_minor": 0,
  "metadata": {
    "colab": {
      "name": "Copy of Untitled13.ipynb",
      "provenance": [],
      "collapsed_sections": [],
      "authorship_tag": "ABX9TyOb4QAQLT7h5HppCLCXDm7k",
      "include_colab_link": true
    },
    "kernelspec": {
      "name": "python3",
      "display_name": "Python 3"
    },
    "language_info": {
      "name": "python"
    }
  },
  "cells": [
    {
      "cell_type": "markdown",
      "metadata": {
        "id": "view-in-github",
        "colab_type": "text"
      },
      "source": [
        "<a href=\"https://colab.research.google.com/github/annanya-mathur/Numpy-in-python/blob/main/Series%20Object%20%26%20dataframe%20in%20pandas.ipynb\" target=\"_parent\"><img src=\"https://colab.research.google.com/assets/colab-badge.svg\" alt=\"Open In Colab\"/></a>"
      ]
    },
    {
      "cell_type": "code",
      "metadata": {
        "colab": {
          "base_uri": "https://localhost:8080/"
        },
        "id": "3mJYIRo_EHKO",
        "outputId": "efd12d2f-091b-48a9-b780-9756f97a83ec"
      },
      "source": [
        "# Series Object is one-dimensional labeled array\n",
        "import pandas as pd\n",
        "import numpy as np\n",
        "s1=pd.Series([39,28,38,42,56,70])               # cconverting list to series object\n",
        "s1                                              # index     element"
      ],
      "execution_count": 6,
      "outputs": [
        {
          "output_type": "execute_result",
          "data": {
            "text/plain": [
              "0    39\n",
              "1    28\n",
              "2    38\n",
              "3    42\n",
              "4    56\n",
              "5    70\n",
              "dtype: int64"
            ]
          },
          "metadata": {
            "tags": []
          },
          "execution_count": 6
        }
      ]
    },
    {
      "cell_type": "code",
      "metadata": {
        "colab": {
          "base_uri": "https://localhost:8080/"
        },
        "id": "BU1fSO3GF8uT",
        "outputId": "37a197f0-c99c-4468-b448-312b1d842d2a"
      },
      "source": [
        "type(s1)"
      ],
      "execution_count": null,
      "outputs": [
        {
          "output_type": "execute_result",
          "data": {
            "text/plain": [
              "pandas.core.series.Series"
            ]
          },
          "metadata": {
            "tags": []
          },
          "execution_count": 3
        }
      ]
    },
    {
      "cell_type": "code",
      "metadata": {
        "colab": {
          "base_uri": "https://localhost:8080/"
        },
        "id": "HUZU_busGTnV",
        "outputId": "15345242-82ad-4177-d1b0-a782212c35c7"
      },
      "source": [
        "# changing index of series array\n",
        "s2=pd.Series([10,13,42,67,90],index=['a','b','c','d','e'])\n",
        "s2"
      ],
      "execution_count": null,
      "outputs": [
        {
          "output_type": "execute_result",
          "data": {
            "text/plain": [
              "a    10\n",
              "b    13\n",
              "c    42\n",
              "d    67\n",
              "e    90\n",
              "dtype: int64"
            ]
          },
          "metadata": {
            "tags": []
          },
          "execution_count": 7
        }
      ]
    },
    {
      "cell_type": "code",
      "metadata": {
        "colab": {
          "base_uri": "https://localhost:8080/"
        },
        "id": "wdiBsASEHBuS",
        "outputId": "8261bf06-cf46-4966-8dde-4348a6d68bce"
      },
      "source": [
        "# creating series object by dictionary\n",
        "s3=pd.Series({'Hello':100,'Welcome':200,'To':300,'My':400,'Repository':500},index=['Hello','Welcome','To','My','Repository','Hey'])\n",
        "s3"
      ],
      "execution_count": null,
      "outputs": [
        {
          "output_type": "execute_result",
          "data": {
            "text/plain": [
              "Hello         100.0\n",
              "Welcome       200.0\n",
              "To            300.0\n",
              "My            400.0\n",
              "Repository    500.0\n",
              "Hey             NaN\n",
              "dtype: float64"
            ]
          },
          "metadata": {
            "tags": []
          },
          "execution_count": 12
        }
      ]
    },
    {
      "cell_type": "code",
      "metadata": {
        "colab": {
          "base_uri": "https://localhost:8080/"
        },
        "id": "ayL4rhT6Is6P",
        "outputId": "a5a07924-575d-4d0c-c2bf-7f6c85bde740"
      },
      "source": [
        "# Extracting elements\n",
        "# individual element\n",
        "s1[4]"
      ],
      "execution_count": null,
      "outputs": [
        {
          "output_type": "execute_result",
          "data": {
            "text/plain": [
              "56"
            ]
          },
          "metadata": {
            "tags": []
          },
          "execution_count": 20
        }
      ]
    },
    {
      "cell_type": "code",
      "metadata": {
        "colab": {
          "base_uri": "https://localhost:8080/"
        },
        "id": "ZQedHr2FJPPq",
        "outputId": "ca6b2efa-1de3-4e2b-ab9d-923e804f7508"
      },
      "source": [
        "# from back and front\n",
        "s1[:-3],s1[:4]"
      ],
      "execution_count": null,
      "outputs": [
        {
          "output_type": "execute_result",
          "data": {
            "text/plain": [
              "(0    39\n",
              " 1    28\n",
              " 2    38\n",
              " dtype: int64, 0    39\n",
              " 1    28\n",
              " 2    38\n",
              " 3    42\n",
              " dtype: int64)"
            ]
          },
          "metadata": {
            "tags": []
          },
          "execution_count": 18
        }
      ]
    },
    {
      "cell_type": "code",
      "metadata": {
        "colab": {
          "base_uri": "https://localhost:8080/"
        },
        "id": "4JDzwlkiKjH7",
        "outputId": "16f3a03e-fb8d-4472-e1c0-afe5461f5494"
      },
      "source": [
        "# adding to series object\n",
        "s1+s1                             # s1+5"
      ],
      "execution_count": null,
      "outputs": [
        {
          "output_type": "execute_result",
          "data": {
            "text/plain": [
              "0     78\n",
              "1     56\n",
              "2     76\n",
              "3     84\n",
              "4    112\n",
              "5    140\n",
              "dtype: int64"
            ]
          },
          "metadata": {
            "tags": []
          },
          "execution_count": 17
        }
      ]
    },
    {
      "cell_type": "code",
      "metadata": {
        "colab": {
          "base_uri": "https://localhost:8080/",
          "height": 166
        },
        "id": "4ff8L5TrFs6b",
        "outputId": "436aeb51-addf-4618-dff1-9f40f7884559"
      },
      "source": [
        "# DataFrame \n",
        "# key -> attributes , value-> column values\n",
        "pd.DataFrame({\"Name\":['Akash','Sanket','Ojas','Sanskriti'],\"Marks\":[40,43,39,45]})"
      ],
      "execution_count": null,
      "outputs": [
        {
          "output_type": "execute_result",
          "data": {
            "text/html": [
              "<div>\n",
              "<style scoped>\n",
              "    .dataframe tbody tr th:only-of-type {\n",
              "        vertical-align: middle;\n",
              "    }\n",
              "\n",
              "    .dataframe tbody tr th {\n",
              "        vertical-align: top;\n",
              "    }\n",
              "\n",
              "    .dataframe thead th {\n",
              "        text-align: right;\n",
              "    }\n",
              "</style>\n",
              "<table border=\"1\" class=\"dataframe\">\n",
              "  <thead>\n",
              "    <tr style=\"text-align: right;\">\n",
              "      <th></th>\n",
              "      <th>Name</th>\n",
              "      <th>Marks</th>\n",
              "    </tr>\n",
              "  </thead>\n",
              "  <tbody>\n",
              "    <tr>\n",
              "      <th>0</th>\n",
              "      <td>Akash</td>\n",
              "      <td>40</td>\n",
              "    </tr>\n",
              "    <tr>\n",
              "      <th>1</th>\n",
              "      <td>Sanket</td>\n",
              "      <td>43</td>\n",
              "    </tr>\n",
              "    <tr>\n",
              "      <th>2</th>\n",
              "      <td>Ojas</td>\n",
              "      <td>39</td>\n",
              "    </tr>\n",
              "    <tr>\n",
              "      <th>3</th>\n",
              "      <td>Sanskriti</td>\n",
              "      <td>45</td>\n",
              "    </tr>\n",
              "  </tbody>\n",
              "</table>\n",
              "</div>"
            ],
            "text/plain": [
              "        Name  Marks\n",
              "0      Akash     40\n",
              "1     Sanket     43\n",
              "2       Ojas     39\n",
              "3  Sanskriti     45"
            ]
          },
          "metadata": {
            "tags": []
          },
          "execution_count": 5
        }
      ]
    },
    {
      "cell_type": "code",
      "metadata": {
        "colab": {
          "base_uri": "https://localhost:8080/"
        },
        "id": "TP10qqQ-hd90",
        "outputId": "6d8b9a13-2b38-4228-9fb2-c853ab6e6724"
      },
      "source": [
        "# representing date from 2020-01-01 upto 10 periods\n",
        "d=pd.date_range('20200101',periods=10)\n",
        "d"
      ],
      "execution_count": null,
      "outputs": [
        {
          "output_type": "execute_result",
          "data": {
            "text/plain": [
              "DatetimeIndex(['2020-01-01', '2020-01-02', '2020-01-03', '2020-01-04',\n",
              "               '2020-01-05', '2020-01-06', '2020-01-07', '2020-01-08',\n",
              "               '2020-01-09', '2020-01-10'],\n",
              "              dtype='datetime64[ns]', freq='D')"
            ]
          },
          "metadata": {
            "tags": []
          },
          "execution_count": 4
        }
      ]
    },
    {
      "cell_type": "code",
      "metadata": {
        "colab": {
          "base_uri": "https://localhost:8080/",
          "height": 343
        },
        "id": "SwbdGuq7pDkr",
        "outputId": "4fd4b7e6-3752-4c5a-b322-4adbb39a806a"
      },
      "source": [
        "a=pd.DataFrame(np.random.randn(10,4),index=d,columns=['A','B','C','D'])\n",
        "a"
      ],
      "execution_count": 14,
      "outputs": [
        {
          "output_type": "execute_result",
          "data": {
            "text/html": [
              "<div>\n",
              "<style scoped>\n",
              "    .dataframe tbody tr th:only-of-type {\n",
              "        vertical-align: middle;\n",
              "    }\n",
              "\n",
              "    .dataframe tbody tr th {\n",
              "        vertical-align: top;\n",
              "    }\n",
              "\n",
              "    .dataframe thead th {\n",
              "        text-align: right;\n",
              "    }\n",
              "</style>\n",
              "<table border=\"1\" class=\"dataframe\">\n",
              "  <thead>\n",
              "    <tr style=\"text-align: right;\">\n",
              "      <th></th>\n",
              "      <th>A</th>\n",
              "      <th>B</th>\n",
              "      <th>C</th>\n",
              "      <th>D</th>\n",
              "    </tr>\n",
              "  </thead>\n",
              "  <tbody>\n",
              "    <tr>\n",
              "      <th>2020-01-01</th>\n",
              "      <td>0.423481</td>\n",
              "      <td>2.286236</td>\n",
              "      <td>0.253574</td>\n",
              "      <td>0.767427</td>\n",
              "    </tr>\n",
              "    <tr>\n",
              "      <th>2020-01-02</th>\n",
              "      <td>-0.455049</td>\n",
              "      <td>-1.098947</td>\n",
              "      <td>-0.351639</td>\n",
              "      <td>-0.073742</td>\n",
              "    </tr>\n",
              "    <tr>\n",
              "      <th>2020-01-03</th>\n",
              "      <td>0.548710</td>\n",
              "      <td>0.000494</td>\n",
              "      <td>1.956099</td>\n",
              "      <td>-0.511816</td>\n",
              "    </tr>\n",
              "    <tr>\n",
              "      <th>2020-01-04</th>\n",
              "      <td>-0.216934</td>\n",
              "      <td>-0.692486</td>\n",
              "      <td>-1.702928</td>\n",
              "      <td>0.752933</td>\n",
              "    </tr>\n",
              "    <tr>\n",
              "      <th>2020-01-05</th>\n",
              "      <td>-0.244523</td>\n",
              "      <td>-2.094198</td>\n",
              "      <td>-0.017621</td>\n",
              "      <td>-0.207978</td>\n",
              "    </tr>\n",
              "    <tr>\n",
              "      <th>2020-01-06</th>\n",
              "      <td>-0.244065</td>\n",
              "      <td>-1.085539</td>\n",
              "      <td>0.615532</td>\n",
              "      <td>0.116213</td>\n",
              "    </tr>\n",
              "    <tr>\n",
              "      <th>2020-01-07</th>\n",
              "      <td>1.113686</td>\n",
              "      <td>-0.818396</td>\n",
              "      <td>-0.968060</td>\n",
              "      <td>-0.552862</td>\n",
              "    </tr>\n",
              "    <tr>\n",
              "      <th>2020-01-08</th>\n",
              "      <td>-2.077172</td>\n",
              "      <td>-0.992138</td>\n",
              "      <td>0.313214</td>\n",
              "      <td>-0.299228</td>\n",
              "    </tr>\n",
              "    <tr>\n",
              "      <th>2020-01-09</th>\n",
              "      <td>2.058670</td>\n",
              "      <td>0.078512</td>\n",
              "      <td>-0.301368</td>\n",
              "      <td>1.668916</td>\n",
              "    </tr>\n",
              "    <tr>\n",
              "      <th>2020-01-10</th>\n",
              "      <td>0.055351</td>\n",
              "      <td>0.317731</td>\n",
              "      <td>1.444247</td>\n",
              "      <td>1.263043</td>\n",
              "    </tr>\n",
              "  </tbody>\n",
              "</table>\n",
              "</div>"
            ],
            "text/plain": [
              "                   A         B         C         D\n",
              "2020-01-01  0.423481  2.286236  0.253574  0.767427\n",
              "2020-01-02 -0.455049 -1.098947 -0.351639 -0.073742\n",
              "2020-01-03  0.548710  0.000494  1.956099 -0.511816\n",
              "2020-01-04 -0.216934 -0.692486 -1.702928  0.752933\n",
              "2020-01-05 -0.244523 -2.094198 -0.017621 -0.207978\n",
              "2020-01-06 -0.244065 -1.085539  0.615532  0.116213\n",
              "2020-01-07  1.113686 -0.818396 -0.968060 -0.552862\n",
              "2020-01-08 -2.077172 -0.992138  0.313214 -0.299228\n",
              "2020-01-09  2.058670  0.078512 -0.301368  1.668916\n",
              "2020-01-10  0.055351  0.317731  1.444247  1.263043"
            ]
          },
          "metadata": {
            "tags": []
          },
          "execution_count": 14
        }
      ]
    }
  ]
}